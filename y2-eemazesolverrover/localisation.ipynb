{
 "cells": [
  {
   "attachments": {},
   "cell_type": "markdown",
   "metadata": {},
   "source": [
    "## Conventional Triangulation with 3 Landmarks\n",
    "In this code, **`z`** is a list containing the values of **`x0`**, **`y0`**, **`xi`**, **`yi`**, **`xj`**, **`yj`**, **`z0r`**, **`zir`**, **`zjr`** in that order. The **`residuals`** function calculates the residuals for the system of equations, and **`solve_landmark_positions`** uses the **`leastsq`** function to find the values of **`px`** and **`py`** that minimize the sum of the squares of the residuals.\n",
    "\n",
    "Replace the values in **`z`** with the actual values. The function **`solve_landmark_positions`** will return the estimated position of the robot.\n",
    "\n",
    "Note: If you're viewing this on GitHub, the images won't show up. You'll need to download the notebook and run it on your computer to see them."
   ]
  },
  {
   "cell_type": "code",
   "execution_count": 109,
   "metadata": {},
   "outputs": [
    {
     "name": "stdout",
     "output_type": "stream",
     "text": [
      "Estimated position: (9.230694150441085, -6.580694150435304)\n"
     ]
    }
   ],
   "source": [
    "import numpy as np\n",
    "from scipy.optimize import leastsq\n",
    "\n",
    "def residuals(p, z):\n",
    "    (x0, y0), (xi, yi), (xj, yj), z0r, zir, zjr = z\n",
    "    px, py = p\n",
    "    res1 = z0r**2 - zir**2 - x0**2 + xi**2 - 2*px*(xi - x0) - y0**2 + yi**2 - 2*py*(yi - y0)\n",
    "    res2 = z0r**2 - zjr**2 - x0**2 + xj**2 - 2*px*(xj - x0) - y0**2 + yj**2 - 2*py*(yj - y0)\n",
    "    return [res1, res2]\n",
    "\n",
    "def solve_landmark_positions(z):\n",
    "    # Initial guess for px, py\n",
    "    p0 = [0, 0]\n",
    "    sol = leastsq(residuals, p0, args=(z,))\n",
    "    return sol[0]\n",
    "\n",
    "# Example usage:\n",
    "# z = [(x0, y0), (xi, yi), (xj, yj), z0r, zir, zjr ]\n",
    "z = [(1, 2), (3, 4), (5, 6), 7, 8, 9]  # Replace with actual values\n",
    "px, py = solve_landmark_positions(z)\n",
    "print(f\"Estimated position: ({px}, {py})\")"
   ]
  },
  {
   "attachments": {},
   "cell_type": "markdown",
   "metadata": {},
   "source": [
    "### Theory\n",
    "Three landmarks are $z_0$, $z_i$ and $z_j$.\n",
    "\n",
    "![](triangulation.png)\n",
    "\n",
    "*Figure 5, Betke, M., & Gurvits, L. (1997). Mobile Robot Localization Using Landmarks. IEEE Transactions on Robotics and Automation, 13(2), 251-263.*\n",
    "\n",
    "$$\n",
    "|v_{0i}|^2=|z_0^{(r)}|^2+|z_i^{(r)}|^2-2|z_0^{(r)}||z_i^{(r)}|\\cos\\varphi_{i0}\\\\\n",
    "\\left|v_{0j}\\right|^{2} =|z_{0}^{(r)}|^{2}+|z_{j}^{(r)}|^{2}-2|z_{0}^{(r)}||z_{j}^{(r)}|\\cos\\varphi_{j0} \\\\\n",
    "|v_{i j}|^{2} =|z_i^{(r)}|^2+|z_j^{(r)}|^2-2|z_i^{(r)}||z_j^{(r)}|\\cos\\varphi_{ij}\n",
    "$$\n",
    "\n",
    "This leads us to the following system of equations\n",
    "$$\n",
    "|z_{0}^{(r)}|^{2}  = (x_0-p_x)^2 + (y_0-p_y)^2 \\\\\n",
    "|z_i^{(r)}|^2 =(x_i-p_x)^2 + (y_i-p_y)^2 \\\\\n",
    "|z_j^{\\left(r\\right)}\\big|^2 =(x_j-p_x)^2 + (y_j-p_y)^2 \n",
    "$$\n",
    "\n",
    "We subtract the 2nd and 3rd equations from the first to get two equations linear in unknowns $p_x$ and $p_y$.\n",
    "\n",
    "$$\n",
    "|z_{0}^{(r)}|^{2}-|z_{i}^{(r)}|^{2} =x_0^{2}-x_i^{2}+2p_x(x_i-x_0)+y_0^{2}-y_i^{2}+2p_y(y_i-y_0) \\\\\n",
    "|z_{0}^{(r)}|^{2}-|z_{j}^{(r)}|^{2} = x_0^2-x_j^2+2p_x(x_j-x_0)+y_0^2-y_j^2+2p_y(y_j-y_0) \n",
    "$$\n",
    "\n",
    "We then solve for p_x and p_y and obtain an estimate for position $(p_x, p_y)$."
   ]
  },
  {
   "attachments": {},
   "cell_type": "markdown",
   "metadata": {},
   "source": [
    "### Testing\n",
    "![](localisation_test_1.png)\n",
    "\n",
    "Check out the Desmos graph [here](https://www.desmos.com/calculator/i9vgrnf3t1) to see how the position of the robot changes as the position of the landmarks change. \n",
    "\n",
    "For notation simplicity, $d_0$ = $z_0^{(r)}$, $d_i$ = $z_i^{(r)}$, $d_j$ = $z_j^{(r)}$."
   ]
  },
  {
   "cell_type": "code",
   "execution_count": 110,
   "metadata": {},
   "outputs": [
    {
     "name": "stdout",
     "output_type": "stream",
     "text": [
      "Estimated position: (208.79934583333332, 116.49969999999998)\n"
     ]
    }
   ],
   "source": [
    "#z = [(x0, y0), (xi, yi), (xj, yj), z0r, zir, zjr]\n",
    "z = [(0, 0), (300, 0), (300, 200), 239.10, 147.95, 123.65]  # Replace with actual values \n",
    "px, py = solve_landmark_positions(z)\n",
    "print(f\"Estimated position: ({px}, {py})\")"
   ]
  }
 ],
 "metadata": {
  "kernelspec": {
   "display_name": "env1",
   "language": "python",
   "name": "python3"
  },
  "language_info": {
   "codemirror_mode": {
    "name": "ipython",
    "version": 3
   },
   "file_extension": ".py",
   "mimetype": "text/x-python",
   "name": "python",
   "nbconvert_exporter": "python",
   "pygments_lexer": "ipython3",
   "version": "3.9.13"
  },
  "orig_nbformat": 4
 },
 "nbformat": 4,
 "nbformat_minor": 2
}
